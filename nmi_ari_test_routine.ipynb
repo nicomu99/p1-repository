{
 "cells": [
  {
   "metadata": {},
   "cell_type": "markdown",
   "source": "# NMI & ARI Test Routine",
   "id": "275715b0cb45301d"
  },
  {
   "metadata": {},
   "cell_type": "markdown",
   "source": "## Compute Descriptors",
   "id": "5c52115d1ee589eb"
  },
  {
   "cell_type": "code",
   "id": "initial_id",
   "metadata": {
    "collapsed": true
   },
   "source": [
    "%load_ext autoreload\n",
    "%autoreload 2\n",
    "\n",
    "import os\n",
    "import pickle\n",
    "import numpy as np\n",
    "import matplotlib.pyplot as plt\n",
    "\n",
    "from sklearn.cluster import SpectralClustering\n",
    "from experiment_utils import compute_knn, plot_evaluation, compute_descriptors_from_file\n",
    "from sklearn.metrics import normalized_mutual_info_score, adjusted_rand_score\n",
    "from sklearn.metrics.pairwise import rbf_kernel"
   ],
   "outputs": [],
   "execution_count": null
  },
  {
   "metadata": {},
   "cell_type": "code",
   "source": [
    "file = \"mc_gill_whole\"\n",
    "df = compute_descriptors_from_file(file)"
   ],
   "id": "d3d38ed27298a658",
   "outputs": [],
   "execution_count": null
  },
  {
   "metadata": {},
   "cell_type": "markdown",
   "source": "## Run Test Routine",
   "id": "c98ccdd927fe4952"
  },
  {
   "metadata": {},
   "cell_type": "code",
   "source": [
    "knn_types = ['symmetric', 'mutual']\n",
    "descriptors = [\n",
    "    ['evrap', 'samp', 'sirm', 'scomp'], ['pfh'], ['sector_model'], ['combined_model'], \n",
    "    ['shell_model'], ['evrap'], ['samp'], ['sirm'], ['scomp']\n",
    "]\n",
    "\n",
    "def load_or_compute_data(mode, n_neighbors):\n",
    "    pickle_file = f\"test_output/{file}_{n_neighbors}_{mode}_nmi_ari.pkl\"\n",
    "    if os.path.isfile(pickle_file):\n",
    "        with open(pickle_file, 'rb') as f:\n",
    "            data = pickle.load(f)\n",
    "    else:\n",
    "        data = {\n",
    "            metric_type: {\n",
    "                metric: {'_'.join(descriptor): [] for descriptor in descriptors}\n",
    "                for metric in ['nmi', 'ari']\n",
    "            }\n",
    "            for metric_type in knn_types\n",
    "        }\n",
    "        data['cluster_size'] = []  # Add cluster size key\n",
    "    \n",
    "        cluster_size = range(2, 21)\n",
    "        for c in cluster_size:\n",
    "            data['cluster_size'].append(c)\n",
    "            for variant in knn_types:\n",
    "                for descriptor in descriptors:\n",
    "                    knn_graph = compute_knn(df, descriptor_list=descriptor, n_neighbors=n_neighbors, variant=variant,\n",
    "                                            mode=mode)\n",
    "    \n",
    "                    if mode == 'distance':\n",
    "                        # for numerical stability\n",
    "                        knn_graph += 1e-10\n",
    "                        knn_graph = knn_graph / np.max(knn_graph)\n",
    "                        sigma = 1.0\n",
    "                        knn_graph = rbf_kernel(knn_graph, gamma=1 / (2 * sigma ** 2))\n",
    "    \n",
    "                    spectral = SpectralClustering(\n",
    "                        n_clusters=c,\n",
    "                        affinity='precomputed',\n",
    "                        random_state=42,\n",
    "                        n_jobs=-1\n",
    "                    )\n",
    "                    predicted_labels = spectral.fit_predict(knn_graph)\n",
    "                    nmi = normalized_mutual_info_score(df[\"labels\"], predicted_labels)\n",
    "                    ari = adjusted_rand_score(df[\"labels\"], predicted_labels)\n",
    "\n",
    "                    data[variant]['nmi']['_'.join(descriptor)].append(nmi)\n",
    "                    data[variant]['ari']['_'.join(descriptor)].append(ari)\n",
    "        with open(pickle_file, 'wb') as f:\n",
    "            pickle.dump(data, f)\n",
    "            \n",
    "    return data"
   ],
   "id": "c59cef8823a72c2a",
   "outputs": [],
   "execution_count": null
  },
  {
   "metadata": {},
   "cell_type": "code",
   "source": [
    "knn_k = [5, 15]\n",
    "knn_modes = ['distance', 'connectivity']\n",
    "for k in knn_k:\n",
    "    for knn_mode in knn_modes:\n",
    "        weighted = ''\n",
    "        if knn_mode == 'distance':\n",
    "            weighted = 'weighted'\n",
    "        else:\n",
    "            weighted = 'unweighted'\n",
    "\n",
    "        plot_data_nmi_ari = load_or_compute_data(knn_mode, k)\n",
    "\n",
    "        for graph_type in knn_types:\n",
    "            fig, axes = plt.subplots(2, 1, figsize=(10, 8), dpi=300)  # Example with a 2x2 grid of subplots\n",
    "        \n",
    "            plot_evaluation(axes[0], descriptors, plot_data_nmi_ari[graph_type]['nmi'], plot_data_nmi_ari['cluster_size'],\n",
    "                            x_label='|C| (Number of Clusters)', y_label='NMI Score',\n",
    "                            title='NMI Score')\n",
    "        \n",
    "            plot_evaluation(axes[1], descriptors, plot_data_nmi_ari[graph_type]['ari'], plot_data_nmi_ari['cluster_size'],\n",
    "                            x_label='|C| (Number of Clusters)', y_label='ARI Score',\n",
    "                            title='ARI Score')\n",
    "        \n",
    "            fig.suptitle(\n",
    "                f\"Spectral Clustering Performance on {graph_type.capitalize()}, {weighted.capitalize()} k-NN graphs (k = {k})\",\n",
    "                color=\"white\", fontsize=18, x=0.01, horizontalalignment=\"left\")\n",
    "        \n",
    "            # Set figure background and adjust layout\n",
    "            fig.patch.set_facecolor('#333333')  # Dark grey background for the figure\n",
    "            fig.tight_layout()  # Ensure subplots fit within the figure\n",
    "        \n",
    "            plt.savefig(f\"figures/{file}/nmi_ari/{weighted}_{graph_type}_knn_nmi_ari_k{k}.png\")\n",
    "            plt.show()"
   ],
   "id": "4f99a17f7f640254",
   "outputs": [],
   "execution_count": null
  },
  {
   "metadata": {},
   "cell_type": "code",
   "source": "",
   "id": "d0b2e964a3c7538e",
   "outputs": [],
   "execution_count": null
  }
 ],
 "metadata": {
  "kernelspec": {
   "display_name": "Python 3",
   "language": "python",
   "name": "python3"
  },
  "language_info": {
   "codemirror_mode": {
    "name": "ipython",
    "version": 2
   },
   "file_extension": ".py",
   "mimetype": "text/x-python",
   "name": "python",
   "nbconvert_exporter": "python",
   "pygments_lexer": "ipython2",
   "version": "2.7.6"
  }
 },
 "nbformat": 4,
 "nbformat_minor": 5
}
