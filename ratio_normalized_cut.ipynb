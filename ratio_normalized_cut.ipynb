{
 "cells": [
  {
   "metadata": {},
   "cell_type": "markdown",
   "source": "# Evaluation of the Ratio & Normalized Cut Values",
   "id": "512ad53b3ce9a94e"
  },
  {
   "cell_type": "code",
   "id": "initial_id",
   "metadata": {
    "collapsed": true
   },
   "source": [
    "%load_ext autoreload\n",
    "%autoreload 2\n",
    "\n",
    "import os\n",
    "import pickle\n",
    "import numpy as np\n",
    "from experiment_utils import compute_descriptors_from_file, compute_knn, compute_ratio_cut, compute_normalized_cut, \\\n",
    "    plot_evaluation\n",
    "import matplotlib.pyplot as plt"
   ],
   "outputs": [],
   "execution_count": null
  },
  {
   "metadata": {},
   "cell_type": "code",
   "source": [
    "df = compute_descriptors_from_file(\"mc_gill_whole\")\n",
    "labels = df['labels']"
   ],
   "id": "10a7736d532e223e",
   "outputs": [],
   "execution_count": null
  },
  {
   "metadata": {},
   "cell_type": "markdown",
   "source": "## Across K Performance",
   "id": "78da77a96dc98a8b"
  },
  {
   "metadata": {},
   "cell_type": "code",
   "source": [
    "file = \"mc_gill_whole\"\n",
    "rotated = False"
   ],
   "id": "4c72a6927299db59",
   "outputs": [],
   "execution_count": null
  },
  {
   "metadata": {},
   "cell_type": "code",
   "source": [
    "descriptors = [\n",
    "    ['evrap', 'samp', 'sirm', 'scomp'], ['pfh'], ['sector_model'], ['combined_model'], ['shell_model'],\n",
    "    ['evrap'], ['samp'], ['sirm'], ['scomp'], ['samp_3d'], ['sirm_3d'], ['scomp_3d']\n",
    "]\n",
    "k_values = range(2, 26)\n",
    "knn_types = ['mutual', 'symmetric']"
   ],
   "id": "982ac044f10b5f6b",
   "outputs": [],
   "execution_count": null
  },
  {
   "metadata": {},
   "cell_type": "code",
   "source": [
    "plot_data = {\n",
    "    knn_type: {\n",
    "        metric: {'_'.join(descriptor): [] for descriptor in descriptors}\n",
    "        for metric in ['ratio_cut', 'normalized_cut']\n",
    "    }\n",
    "    for knn_type in knn_types\n",
    "}\n",
    "\n",
    "pickle_file_per_k = f'test_output/{file}_ratio_normalized_per_k{\"_rotated\" if rotated else \"\"}.pkl'\n",
    "if os.path.isfile(pickle_file_per_k):\n",
    "    with open(pickle_file_per_k, 'rb') as f:\n",
    "        plot_data = pickle.load(f)\n",
    "else:\n",
    "    for k in k_values:\n",
    "        for knn_type in knn_types:\n",
    "            for descriptor in descriptors:\n",
    "                knn_graph = compute_knn(df, descriptor_list=descriptor, n_neighbors=k, variant=knn_type)\n",
    "                n_clusters = len(np.unique(labels))\n",
    "\n",
    "                ratio_cut = compute_ratio_cut(knn_graph, labels)\n",
    "                normalized_cut = compute_normalized_cut(knn_graph, labels)\n",
    "\n",
    "                plot_data[knn_type]['ratio_cut']['_'.join(descriptor)].append(ratio_cut)\n",
    "                plot_data[knn_type]['normalized_cut']['_'.join(descriptor)].append(normalized_cut)\n",
    "\n",
    "    with open(pickle_file_per_k, 'wb') as f:\n",
    "        pickle.dump(plot_data, f)"
   ],
   "id": "eede8469e00fd8d3",
   "outputs": [],
   "execution_count": null
  },
  {
   "metadata": {},
   "cell_type": "code",
   "source": [
    "for knn_type in knn_types:\n",
    "    fig, axes = plt.subplots(2, 1, figsize=(10, 8), dpi=300)  # Example with a 2x2 grid of subplots\n",
    "\n",
    "    plot_evaluation(axes[0], descriptors, plot_data[knn_type]['ratio_cut'], k_values,\n",
    "                    x_label='k (Number of Neighbors)', y_label='Ratio Cut Value',\n",
    "                    title='Ratio Cut Value Across Descriptors')\n",
    "\n",
    "    plot_evaluation(axes[1], descriptors, plot_data[knn_type]['normalized_cut'], k_values,\n",
    "                    x_label='k (Number of Neighbors)', y_label='Normalized Cut Value',\n",
    "                    title='Normalized Cut Value Across Descriptors')\n",
    "\n",
    "    fig.suptitle(f\"Cut Performance for {knn_type.capitalize()} k-NN Graphs Based on 3D Shape Descriptors\",\n",
    "                 color=\"white\", fontsize=18)\n",
    "\n",
    "    fig.patch.set_facecolor('#333333')\n",
    "    fig.tight_layout()\n",
    "\n",
    "    plt.savefig(\n",
    "        f'figures/{file}/ratio_normalized_cut_values/{knn_type}_ratio_normalized_cut_per_k{\"_rotated\" if rotated else \"\"}.png',\n",
    "        dpi=300)\n",
    "    plt.show()"
   ],
   "id": "775b156af460cd61",
   "outputs": [],
   "execution_count": null
  },
  {
   "metadata": {},
   "cell_type": "markdown",
   "source": "# Reduced d Performance",
   "id": "4e24bca41ec5b3bd"
  },
  {
   "metadata": {},
   "cell_type": "code",
   "source": [
    "MAX_DIM = 20  # the maximum dimensionality is 36, a property of the combined model\n",
    "descriptors = [['evrap', 'samp', 'sirm', 'scomp'], ['pfh'], ['sector_model'], ['combined_model'], ['shell_model']]\n",
    "colors = ['tab:blue', 'tab:orange', 'tab:green', 'tab:red', 'tab:purple']\n",
    "d_values = range(1, MAX_DIM)\n",
    "knn_types = ['mutual', 'symmetric']"
   ],
   "id": "e21d5d32087b8b94",
   "outputs": [],
   "execution_count": null
  },
  {
   "metadata": {},
   "cell_type": "code",
   "source": [
    "plot_data = {\n",
    "    knn_type: {\n",
    "        metric: {'_'.join(descriptor): [] for descriptor in descriptors}\n",
    "        for metric in ['ratio_cut', 'normalized_cut']\n",
    "    }\n",
    "    for knn_type in knn_types\n",
    "}\n",
    "pickle_file_reduced_d = f'test_output/{file}_ratio_normalized_reduced_d{\"_rotated\" if rotated else \"\"}.pkl'\n",
    "if os.path.isfile(pickle_file_reduced_d):\n",
    "    with open(pickle_file_reduced_d, 'rb') as f:\n",
    "        plot_data = pickle.load(f)\n",
    "else:\n",
    "    for dim in d_values:\n",
    "        for knn_variant in ['symmetric', 'mutual']:\n",
    "            for descriptor in descriptors:\n",
    "                knn_graph_data = compute_knn(df, descriptor_list=descriptor, n_neighbors=15, variant=knn_variant,\n",
    "                                             pca=True, pca_dim=dim)\n",
    "                n_clusters = len(np.unique(labels))\n",
    "\n",
    "                ratio_cut = compute_ratio_cut(knn_graph_data, labels)\n",
    "                normalized_cut = compute_normalized_cut(knn_graph_data, labels)\n",
    "\n",
    "                plot_data[knn_variant]['ratio_cut']['_'.join(descriptor)].append(ratio_cut)\n",
    "                plot_data[knn_variant]['normalized_cut']['_'.join(descriptor)].append(normalized_cut)\n",
    "\n",
    "    with open(pickle_file_reduced_d, 'wb') as f:\n",
    "        pickle.dump(plot_data, f)"
   ],
   "id": "47d5e34ad801bb3d",
   "outputs": [],
   "execution_count": null
  },
  {
   "metadata": {},
   "cell_type": "code",
   "source": [
    "for knn_type in knn_types:\n",
    "    fig, axes = plt.subplots(2, 1, figsize=(10, 8), dpi=300)\n",
    "\n",
    "    plot_evaluation(axes[0], descriptors, plot_data[knn_type]['ratio_cut'], d_values,\n",
    "                    x_label='d (Reduced Dimensionality)', y_label='Ratio Cut Value',\n",
    "                    title='Ratio Cut Value Across Descriptors', colors=colors)\n",
    "\n",
    "    plot_evaluation(axes[1], descriptors, plot_data[knn_type]['normalized_cut'], d_values,\n",
    "                    x_label='d (Reduced Dimensionality)', y_label='Normalized Cut Value',\n",
    "                    title='Normalized Cut Value Across Descriptors', colors=colors)\n",
    "\n",
    "    fig.suptitle(f\"Cut Performance for {knn_type.capitalize()} k-NN Graphs Based on Reduced 3D Shape Descriptors\",\n",
    "                 color=\"white\", fontsize=18)\n",
    "\n",
    "    # Set figure background and adjust layout\n",
    "    fig.patch.set_facecolor('#333333')  # Dark grey background for the figure\n",
    "    fig.tight_layout()  # Ensure subplots fit within the figure\n",
    "\n",
    "    plt.savefig(\n",
    "        f'figures/{file}/ratio_normalized_cut_values/{knn_type}_ratio_normalized_cut_reduced_d{\"_rotated\" if rotated else \"\"}.png',\n",
    "        dpi=300)\n",
    "    plt.show()"
   ],
   "id": "3bc04a7335a2f659",
   "outputs": [],
   "execution_count": null
  },
  {
   "metadata": {},
   "cell_type": "markdown",
   "source": "## Rotate Objects first, Reduced d",
   "id": "3a52143799a32a41"
  },
  {
   "metadata": {},
   "cell_type": "code",
   "source": [
    "rotated = True\n",
    "df = compute_descriptors_from_file(\"mc_gill_whole\", rotate_random=rotated)"
   ],
   "id": "88ff71e2b6ed271d",
   "outputs": [],
   "execution_count": null
  },
  {
   "metadata": {},
   "cell_type": "code",
   "source": [
    "MAX_DIM = 20  # the maximum dimensionality is 36, a property of the combined model\n",
    "descriptors = [['evrap', 'samp', 'sirm', 'scomp'], ['pfh'], ['sector_model'], ['combined_model'], ['shell_model']]\n",
    "colors = ['tab:blue', 'tab:orange', 'tab:green', 'tab:red', 'tab:purple']\n",
    "d_values = range(1, MAX_DIM)\n",
    "knn_types = ['mutual', 'symmetric']"
   ],
   "id": "a62a44cba1b45b1",
   "outputs": [],
   "execution_count": null
  },
  {
   "metadata": {},
   "cell_type": "code",
   "source": [
    "plot_data = {\n",
    "    knn_type: {\n",
    "        metric: {'_'.join(descriptor): [] for descriptor in descriptors}\n",
    "        for metric in ['ratio_cut', 'normalized_cut']\n",
    "    }\n",
    "    for knn_type in knn_types\n",
    "}\n",
    "pickle_file_reduced_d = f'test_output/{file}_ratio_normalized_reduced_d{\"_rotated\" if rotated else \"\"}.pkl'\n",
    "if os.path.isfile(pickle_file_reduced_d):\n",
    "    with open(pickle_file_reduced_d, 'rb') as f:\n",
    "        plot_data = pickle.load(f)\n",
    "else:\n",
    "    for dim in d_values:\n",
    "        for knn_variant in ['symmetric', 'mutual']:\n",
    "            for descriptor in descriptors:\n",
    "                knn_graph_data = compute_knn(df, descriptor_list=descriptor, n_neighbors=15, variant=knn_variant,\n",
    "                                             pca=True, pca_dim=dim)\n",
    "                n_clusters = len(np.unique(labels))\n",
    "\n",
    "                ratio_cut = compute_ratio_cut(knn_graph_data, labels)\n",
    "                normalized_cut = compute_normalized_cut(knn_graph_data, labels)\n",
    "\n",
    "                plot_data[knn_variant]['ratio_cut']['_'.join(descriptor)].append(ratio_cut)\n",
    "                plot_data[knn_variant]['normalized_cut']['_'.join(descriptor)].append(normalized_cut)\n",
    "\n",
    "    with open(pickle_file_reduced_d, 'wb') as f:\n",
    "        pickle.dump(plot_data, f)"
   ],
   "id": "ee257c4e97290f43",
   "outputs": [],
   "execution_count": null
  },
  {
   "metadata": {},
   "cell_type": "code",
   "source": [
    "for knn_type in knn_types:\n",
    "    fig, axes = plt.subplots(2, 1, figsize=(10, 8), dpi=300)\n",
    "\n",
    "    plot_evaluation(axes[0], descriptors, plot_data[knn_type]['ratio_cut'], d_values,\n",
    "                    x_label='d (Reduced Dimensionality)', y_label='Ratio Cut Value',\n",
    "                    title='Ratio Cut Value Across Descriptors', colors=colors)\n",
    "\n",
    "    plot_evaluation(axes[1], descriptors, plot_data[knn_type]['normalized_cut'], d_values,\n",
    "                    x_label='d (Reduced Dimensionality)', y_label='Normalized Cut Value',\n",
    "                    title='Normalized Cut Value Across Descriptors', colors=colors)\n",
    "\n",
    "    fig.suptitle(f\"Cut Performance for {knn_type.capitalize()} k-NN Graphs Based on Reduced 3D Shape Descriptors\",\n",
    "                 color=\"white\", fontsize=18)\n",
    "\n",
    "    # Set figure background and adjust layout\n",
    "    fig.patch.set_facecolor('#333333')\n",
    "    fig.tight_layout()\n",
    "\n",
    "    plt.savefig(\n",
    "        f'figures/{file}/ratio_normalized_cut_values/{knn_type}_ratio_normalized_cut_reduced_d{\"_rotated\" if rotated else \"\"}.png',\n",
    "        dpi=300)\n",
    "    plt.show()"
   ],
   "id": "9faf7d28ef07827d",
   "outputs": [],
   "execution_count": null
  },
  {
   "metadata": {},
   "cell_type": "markdown",
   "source": "## Rotate Objects first, per k",
   "id": "72eed12f6e735913"
  },
  {
   "metadata": {},
   "cell_type": "code",
   "source": [
    "descriptors = [['evrap', 'samp', 'sirm', 'scomp'], ['pfh'], ['sector_model'], ['combined_model'], ['shell_model'],\n",
    "               ['evrap'], ['samp'], ['sirm'], ['scomp']]\n",
    "k_values = range(2, 26)\n",
    "knn_types = ['mutual', 'symmetric']"
   ],
   "id": "6f50318fff9200c3",
   "outputs": [],
   "execution_count": null
  },
  {
   "metadata": {},
   "cell_type": "code",
   "source": [
    "plot_data = {\n",
    "    knn_type: {\n",
    "        metric: {'_'.join(descriptor): [] for descriptor in descriptors}\n",
    "        for metric in ['ratio_cut', 'normalized_cut']\n",
    "    }\n",
    "    for knn_type in knn_types\n",
    "}\n",
    "\n",
    "pickle_file_per_k = f'test_output/{file}_ratio_normalized_per_k{\"_rotated\" if rotated else \"\"}.pkl'\n",
    "if os.path.isfile(pickle_file_per_k):\n",
    "    with open(pickle_file_per_k, 'rb') as f:\n",
    "        plot_data = pickle.load(f)\n",
    "else:\n",
    "    for k in k_values:\n",
    "        for knn_type in knn_types:\n",
    "            for descriptor in descriptors:\n",
    "                knn_graph = compute_knn(df, descriptor_list=descriptor, n_neighbors=k, variant=knn_type)\n",
    "                n_clusters = len(np.unique(labels))\n",
    "\n",
    "                ratio_cut = compute_ratio_cut(knn_graph, labels)\n",
    "                normalized_cut = compute_normalized_cut(knn_graph, labels)\n",
    "\n",
    "                plot_data[knn_type]['ratio_cut']['_'.join(descriptor)].append(ratio_cut)\n",
    "                plot_data[knn_type]['normalized_cut']['_'.join(descriptor)].append(normalized_cut)\n",
    "\n",
    "    with open(pickle_file_per_k, 'wb') as f:\n",
    "        pickle.dump(plot_data, f)"
   ],
   "id": "6604b41d795d3e7c",
   "outputs": [],
   "execution_count": null
  },
  {
   "metadata": {},
   "cell_type": "code",
   "source": [
    "for knn_type in knn_types:\n",
    "    fig, axes = plt.subplots(2, 1, figsize=(10, 8), dpi=300)  # Example with a 2x2 grid of subplots\n",
    "\n",
    "    plot_evaluation(axes[0], descriptors, plot_data[knn_type]['ratio_cut'], k_values,\n",
    "                    x_label='k (Number of Neighbors)', y_label='Ratio Cut Value',\n",
    "                    title='Ratio Cut Value Across Descriptors')\n",
    "\n",
    "    plot_evaluation(axes[1], descriptors, plot_data[knn_type]['normalized_cut'], k_values,\n",
    "                    x_label='k (Number of Neighbors)', y_label='Normalized Cut Value',\n",
    "                    title='Normalized Cut Value Across Descriptors')\n",
    "\n",
    "    fig.suptitle(f\"Cut Performance for {knn_type.capitalize()} k-NN Graphs Based on 3D Shape Descriptors\",\n",
    "                 color=\"white\", fontsize=18)\n",
    "\n",
    "    fig.patch.set_facecolor('#333333')\n",
    "    fig.tight_layout()\n",
    "\n",
    "    plt.savefig(\n",
    "        f'figures/{file}/ratio_normalized_cut_values/{knn_type}_ratio_normalized_cut_per_k{\"_rotated\" if rotated else \"\"}.png',\n",
    "        dpi=300)\n",
    "    plt.show()"
   ],
   "id": "ec6e3c41d926d4c2",
   "outputs": [],
   "execution_count": null
  },
  {
   "metadata": {},
   "cell_type": "code",
   "source": "",
   "id": "334e8b27ed7c28a2",
   "outputs": [],
   "execution_count": null
  }
 ],
 "metadata": {
  "kernelspec": {
   "display_name": "Python 3",
   "language": "python",
   "name": "python3"
  },
  "language_info": {
   "codemirror_mode": {
    "name": "ipython",
    "version": 2
   },
   "file_extension": ".py",
   "mimetype": "text/x-python",
   "name": "python",
   "nbconvert_exporter": "python",
   "pygments_lexer": "ipython2",
   "version": "2.7.6"
  }
 },
 "nbformat": 4,
 "nbformat_minor": 5
}
