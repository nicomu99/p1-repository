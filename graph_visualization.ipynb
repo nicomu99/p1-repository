{
 "cells": [
  {
   "metadata": {},
   "cell_type": "markdown",
   "source": [
    "# 2D Visualizations of Graphs\n",
    "\n",
    "Visualization of k-NN graphs with k = 5 or 15 for both our combined descriptors and the [combined model](https://cdn.aaai.org/ISMB/1999/ISMB99-005.pdf)."
   ],
   "id": "5a879bf2d9b9b9a4"
  },
  {
   "metadata": {},
   "cell_type": "code",
   "source": [
    "%load_ext autoreload\n",
    "%autoreload 2\n",
    "\n",
    "from experiment_utils import compute_knn, compute_descriptors_from_file\n",
    "import networkx as nx\n",
    "import matplotlib.pyplot as plt\n",
    "from sklearn import preprocessing"
   ],
   "id": "e8da927edf847fdc",
   "outputs": [],
   "execution_count": null
  },
  {
   "metadata": {},
   "cell_type": "code",
   "source": [
    "file = \"mc_gill_whole\"\n",
    "df = compute_descriptors_from_file(file)"
   ],
   "id": "aac868487468401e",
   "outputs": [],
   "execution_count": null
  },
  {
   "metadata": {},
   "cell_type": "code",
   "source": [
    "le = preprocessing.LabelEncoder()\n",
    "labels = le.fit_transform(df[\"labels\"])"
   ],
   "id": "798729dc90bff456",
   "outputs": [],
   "execution_count": null
  },
  {
   "metadata": {},
   "cell_type": "code",
   "source": [
    "def create_drawing(data, classes, descriptors, n_neighbors, variant, title):\n",
    "    knn_graph = compute_knn(data, descriptor_list=descriptors, n_neighbors=n_neighbors, variant=variant)\n",
    "\n",
    "    graph = nx.from_numpy_array(knn_graph)\n",
    "    \n",
    "    fig, ax = plt.subplots(1, 1, figsize=(8, 6), dpi=300)\n",
    "    pos = nx.kamada_kawai_layout(graph)  # Layout for visualization\n",
    "    nx.draw(graph, pos, with_labels=False, node_size=200, node_color=classes, cmap=plt.cm.tab10, ax=ax)\n",
    "    \n",
    "    fig.patch.set_facecolor('#333333')\n",
    "    fig.suptitle(f\"{variant.capitalize()} {title} (k = {n_neighbors})\", color=\"white\", fontsize=18)\n",
    "    fig.tight_layout()\n",
    "    \n",
    "    plt.savefig(f\"figures/{file}/graph_viz/knn_graph_{n_neighbors}_{variant}_{'_'.join(descriptors)}.png\")\n",
    "    plt.show()"
   ],
   "id": "a2c71fa3ab10dcdf",
   "outputs": [],
   "execution_count": null
  },
  {
   "metadata": {},
   "cell_type": "code",
   "source": "create_drawing(df, labels, ['evrap', 'samp_3d', 'scomp_3d', 'sirm_3d'], 5, 'symmetric', \"k-NN Graph of Krombholz' Descriptors\")",
   "id": "1f0d0c5da73202a3",
   "outputs": [],
   "execution_count": null
  },
  {
   "metadata": {},
   "cell_type": "code",
   "source": "create_drawing(df, labels, ['evrap', 'samp_3d', 'scomp_3d', 'sirm_3d'], 5, 'mutual', \"k-NN Graph of Krombholz' Descriptors\")",
   "id": "a02ab8c0b3d313a8",
   "outputs": [],
   "execution_count": null
  },
  {
   "metadata": {},
   "cell_type": "code",
   "source": "create_drawing(df, labels, ['evrap', 'samp_3d', 'scomp_3d', 'sirm_3d'], 15, 'symmetric', \"k-NN Graph of Krombholz' Descriptors\")",
   "id": "1eaca7100f539aaa",
   "outputs": [],
   "execution_count": null
  },
  {
   "metadata": {},
   "cell_type": "code",
   "source": "create_drawing(df, labels, ['evrap', 'samp_3d', 'scomp_3d', 'sirm_3d'], 15, 'mutual', \"k-NN Graph of Krombholz' Descriptors\")",
   "id": "be2c85ff4cf1d110",
   "outputs": [],
   "execution_count": null
  },
  {
   "metadata": {},
   "cell_type": "code",
   "source": "create_drawing(df, labels, ['combined_model'], 5, 'symmetric', \"k-NN Graph of the Combined Model\")",
   "id": "b8ecead936502af",
   "outputs": [],
   "execution_count": null
  },
  {
   "metadata": {},
   "cell_type": "code",
   "source": "create_drawing(df, labels, ['combined_model'], 5, 'mutual', \"k-NN Graph of the Combined Model\")",
   "id": "570b4bef3bdb0c7",
   "outputs": [],
   "execution_count": null
  },
  {
   "metadata": {},
   "cell_type": "code",
   "source": "create_drawing(df, labels, ['combined_model'], 15, 'symmetric', \"k-NN Graph of the Combined Model\")",
   "id": "f14c209d7f92aaf",
   "outputs": [],
   "execution_count": null
  },
  {
   "metadata": {},
   "cell_type": "code",
   "source": "create_drawing(df, labels, ['combined_model'], 15, 'mutual', \"k-NN Graph of the Combined Model\")",
   "id": "533e2c475ed9f014",
   "outputs": [],
   "execution_count": null
  },
  {
   "metadata": {},
   "cell_type": "code",
   "source": "",
   "id": "919645aacfe6d041",
   "outputs": [],
   "execution_count": null
  }
 ],
 "metadata": {
  "kernelspec": {
   "display_name": "Python 3",
   "language": "python",
   "name": "python3"
  },
  "language_info": {
   "codemirror_mode": {
    "name": "ipython",
    "version": 2
   },
   "file_extension": ".py",
   "mimetype": "text/x-python",
   "name": "python",
   "nbconvert_exporter": "python",
   "pygments_lexer": "ipython2",
   "version": "2.7.6"
  }
 },
 "nbformat": 4,
 "nbformat_minor": 5
}
