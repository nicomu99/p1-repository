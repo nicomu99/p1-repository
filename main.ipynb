{
 "cells": [
  {
   "cell_type": "markdown",
   "metadata": {},
   "source": [
    "# Main Testing Notebook\n",
    "\n",
    "This notebook contains the main testing procedures of the project."
   ]
  },
  {
   "cell_type": "code",
   "metadata": {
    "ExecuteTime": {
     "end_time": "2024-11-05T11:12:06.395345Z",
     "start_time": "2024-11-05T11:12:06.391790Z"
    }
   },
   "source": [
    "import os\n",
    "import numpy as np\n",
    "import open3d as o3d\n",
    "from descriptors import DescriptorWrapper"
   ],
   "outputs": [],
   "execution_count": 22
  },
  {
   "metadata": {
    "ExecuteTime": {
     "end_time": "2024-11-05T11:12:41.262103Z",
     "start_time": "2024-11-05T11:12:41.259075Z"
    }
   },
   "cell_type": "code",
   "source": [
    "def load_mesh_and_sample_points(file_name, num_points=5000):\n",
    "    # Default number of points as indicated in the thesis\n",
    "    mesh = o3d.io.read_triangle_mesh(file_name)\n",
    "    point_cloud = mesh.sample_points_poisson_disk(num_points)\n",
    "    return np.asarray(point_cloud)"
   ],
   "outputs": [],
   "execution_count": 30
  },
  {
   "metadata": {
    "jupyter": {
     "is_executing": true
    },
    "ExecuteTime": {
     "start_time": "2024-11-05T11:12:43.223605Z"
    }
   },
   "cell_type": "code",
   "source": [
    "path = 'mesh_files'\n",
    "\n",
    "mesh_objects = []\n",
    "for file in os.listdir(path):\n",
    "    file_path = os.path.join(path, file)\n",
    "    if os.path.isfile(file_path):\n",
    "        object_category = ''\n",
    "        if 'airplane' in file:\n",
    "            object_category = 'airplane'\n",
    "        elif 'dino' in file:\n",
    "            object_category = 'dinosaur'\n",
    "        else: \n",
    "            object_category = 'fish'\n",
    "        mesh_objects.append([load_mesh_and_sample_points(file_path), object_category])"
   ],
   "outputs": [],
   "execution_count": null
  },
  {
   "metadata": {},
   "cell_type": "code",
   "outputs": [],
   "execution_count": null,
   "source": "descriptor_wrapper = DescriptorWrapper()"
  }
 ],
 "metadata": {
  "language_info": {
   "name": "python"
  },
  "kernelspec": {
   "name": "python3",
   "language": "python",
   "display_name": "Python 3 (ipykernel)"
  }
 },
 "nbformat": 4,
 "nbformat_minor": 2
}
