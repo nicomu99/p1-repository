{
 "cells": [
  {
   "cell_type": "markdown",
   "metadata": {},
   "source": [
    "# Sample From Mesh Files & Load Proteins\n",
    "\n",
    "In this notebook, point clouds are created from mesh files using poisson disk sampling."
   ]
  },
  {
   "cell_type": "code",
   "metadata": {
    "ExecuteTime": {
     "end_time": "2024-12-04T10:19:09.356560Z",
     "start_time": "2024-12-04T10:19:08.456759Z"
    }
   },
   "source": [
    "%load_ext autoreload\n",
    "%autoreload 2\n",
    "\n",
    "import os\n",
    "\n",
    "import numpy as np\n",
    "import matplotlib.pyplot as plt\n",
    "import open3d as o3d\n",
    "from tqdm import tqdm"
   ],
   "outputs": [
    {
     "name": "stdout",
     "output_type": "stream",
     "text": [
      "The autoreload extension is already loaded. To reload it, use:\n",
      "  %reload_ext autoreload\n"
     ]
    }
   ],
   "execution_count": 6
  },
  {
   "metadata": {},
   "cell_type": "code",
   "source": [
    "def load_mesh_and_sample_points(file_name, num_points=5000):\n",
    "    # Default number of points as indicated in the thesis\n",
    "    mesh = o3d.io.read_triangle_mesh(file_name)\n",
    "    pc = mesh.sample_points_poisson_disk(num_points)\n",
    "    return np.asarray(pc.points)"
   ],
   "outputs": [],
   "execution_count": null
  },
  {
   "metadata": {
    "jupyter": {
     "is_executing": true
    }
   },
   "cell_type": "code",
   "source": [
    "# Load data and convert to point clouds\n",
    "path = 'mesh_files_new'\n",
    "count = 0\n",
    "for idx, file in tqdm(enumerate(os.listdir(path))):\n",
    "    file_path = os.path.join(path, file)\n",
    "    if os.path.isfile(file_path):\n",
    "        label = \"\"\n",
    "        for s in file[:-3]:\n",
    "            if s.isalpha():\n",
    "                label += s\n",
    "        point_cloud = load_mesh_and_sample_points(file_path)\n",
    "        np.savez('point_clouds/' + label + str(count) + '.npz', objects=point_cloud, classes=label)\n",
    "        count += 1"
   ],
   "outputs": [],
   "execution_count": null
  },
  {
   "metadata": {},
   "cell_type": "code",
   "source": [
    "# This step was only needed once\n",
    "# Can be ignored\n",
    "path = 'point_clouds'\n",
    "objects = []\n",
    "labels = []\n",
    "for idx, file in tqdm(enumerate(os.listdir(path))):\n",
    "    file_path = os.path.join(path, file)\n",
    "    if os.path.isfile(file_path):\n",
    "        load_table = np.load(file_path, allow_pickle=True)\n",
    "        if len(load_table['objects'].shape) > 2:\n",
    "            for i in range(load_table['objects'].shape[0]):\n",
    "                objects.append(load_table['objects'][i])\n",
    "                labels.append(load_table['classes'][i])\n",
    "        else:\n",
    "            objects.append(load_table['objects'])\n",
    "            labels.append(load_table['classes'])"
   ],
   "outputs": [],
   "execution_count": null
  },
  {
   "metadata": {},
   "cell_type": "code",
   "source": "np.savez('point_clouds/all_point_clouds', objects=objects, labels=labels)",
   "outputs": [],
   "execution_count": null
  },
  {
   "metadata": {
    "ExecuteTime": {
     "end_time": "2024-12-04T10:19:13.056380Z",
     "start_time": "2024-12-04T10:19:12.994880Z"
    }
   },
   "cell_type": "code",
   "source": [
    "load_clouds = np.load('point_clouds/all_point_clouds.npz', allow_pickle=True)\n",
    "point_cloud_data = [load_clouds['objects'], load_clouds['labels']]"
   ],
   "outputs": [],
   "execution_count": 7
  },
  {
   "metadata": {},
   "cell_type": "code",
   "source": [
    "def create_scatterplot_3d(data, descriptor):\n",
    "    figure = plt.figure(figsize=(5, 5))\n",
    "    ax = figure.add_subplot(111, projection='3d')\n",
    "\n",
    "    # Map classes to colors\n",
    "    unique_classes = data['class'].unique()\n",
    "    colors = plt.cm.tab10(range(len(unique_classes)))\n",
    "    class_color_map = dict(zip(unique_classes, colors))\n",
    "\n",
    "    # Plot points by class\n",
    "    for class_label in unique_classes:\n",
    "        class_data = data[data['class'] == class_label]\n",
    "        ax.scatter(\n",
    "            class_data['evrap_x'], class_data['evrap_y'], class_data['evrap_z'],\n",
    "            color=class_color_map[class_label], label=class_label, s=50\n",
    "        )\n",
    "\n",
    "    ax.legend()\n",
    "    ax.view_init(80, 10)\n",
    "    ax.set_title(descriptor)\n",
    "\n",
    "\n",
    "def create_scatterplot_2d(data, descriptor):\n",
    "    figure = plt.figure(figsize=(5, 5))\n",
    "    ax = figure.add_subplot(111)\n",
    "\n",
    "    # Map classes to colors\n",
    "    unique_classes = data['class'].unique()\n",
    "    colors = plt.cm.tab10(range(len(unique_classes)))\n",
    "    class_color_map = dict(zip(unique_classes, colors))\n",
    "\n",
    "    # Plot points by class\n",
    "    for class_label in unique_classes:\n",
    "        class_data = data[data['class'] == class_label]\n",
    "        ax.scatter(\n",
    "            class_data['samp_x'], class_data['samp_y'],\n",
    "            color=class_color_map[class_label], label=class_label, s=50\n",
    "        )\n",
    "\n",
    "    ax.legend()\n",
    "    ax.set_title(descriptor)\n",
    "\n",
    "\n",
    "def create_scatterplot_1d(data, descriptor):\n",
    "    figure = plt.figure(figsize=(5, 5))\n",
    "    ax = figure.add_subplot(111)\n",
    "\n",
    "    # Map classes to colors\n",
    "    unique_classes = data['class'].unique()\n",
    "    colors = plt.cm.tab10(range(len(unique_classes)))\n",
    "    class_color_map = dict(zip(unique_classes, colors))\n",
    "\n",
    "    # Plot points by class\n",
    "    for class_label in unique_classes:\n",
    "        class_data = data[data['class'] == class_label]\n",
    "        x = np.arange(len(class_data[descriptor]))\n",
    "        ax.scatter(\n",
    "            x, class_data[descriptor], color=class_color_map[class_label], label=class_label,\n",
    "        )\n",
    "\n",
    "    ax.legend()\n",
    "    ax.set_title(descriptor)"
   ],
   "outputs": [],
   "execution_count": null
  },
  {
   "metadata": {},
   "cell_type": "markdown",
   "source": [
    "## Runtime Overview\n",
    "\n",
    "The descriptors used have the following complexities. \n",
    "\n",
    "- EVARP: $O(nm)$\n",
    "- SAMP: $O(nm)$\n",
    "- SCOMP: $O(n \\cdot (m$ log $m)$\n",
    "- SIRM: $O(nm)$\n",
    "- Shell Model: $O(nm)$\n",
    "- Sector Model: $O(nm)$\n",
    "- Combined Model: $O(n(m + m))$\n",
    "- FPFH: $O(nmk)$\n",
    "\n",
    "Notation:\n",
    "- n: Number of point clouds\n",
    "- m: Number of points per point cloud\n",
    "- k: A hyperparameter of FPFH (relatively small), similar to k in k-NN"
   ]
  },
  {
   "metadata": {},
   "cell_type": "markdown",
   "source": "## Load Proteins"
  },
  {
   "metadata": {
    "ExecuteTime": {
     "end_time": "2024-12-11T11:05:23.008036Z",
     "start_time": "2024-12-11T11:05:22.943859Z"
    }
   },
   "cell_type": "code",
   "source": "import requests",
   "outputs": [],
   "execution_count": 1
  },
  {
   "metadata": {
    "ExecuteTime": {
     "end_time": "2024-12-11T11:18:35.947717Z",
     "start_time": "2024-12-11T11:18:35.942121Z"
    }
   },
   "cell_type": "code",
   "source": [
    "# https://search.rcsb.org/index.html#building-search-request\n",
    "# https://search.rcsb.org/index.html#search-example-4\n",
    "url = 'https://search.rcsb.org/rcsbsearch/v2/query'\n",
    "\n",
    "query_dict = {\n",
    "    \"query\": {\n",
    "        \"type\": \"terminal\",\n",
    "        \"service\": \"structure\",          # structural similarity is what we want\n",
    "        \"parameters\": {\n",
    "            \"value\": {\n",
    "                \"entry_id\": \"1CLL\",\n",
    "                \"assembly_id\": \"1\"\n",
    "            }\n",
    "        }\n",
    "    },\n",
    "    \"return_type\": \"entry\",\n",
    "    \"request_options\": {\n",
    "        \"paginate\": {\n",
    "            \"start\": 0,\n",
    "            \"rows\": 20\n",
    "        }\n",
    "    }\n",
    "}"
   ],
   "outputs": [],
   "execution_count": 14
  },
  {
   "metadata": {
    "ExecuteTime": {
     "end_time": "2024-12-11T11:18:36.818488Z",
     "start_time": "2024-12-11T11:18:36.266315Z"
    }
   },
   "cell_type": "code",
   "source": [
    "response = requests.post(url, json=query_dict)\n",
    "results = response.json()"
   ],
   "outputs": [],
   "execution_count": 15
  },
  {
   "metadata": {
    "ExecuteTime": {
     "end_time": "2024-12-11T11:18:36.837921Z",
     "start_time": "2024-12-11T11:18:36.830793Z"
    }
   },
   "cell_type": "code",
   "source": "results",
   "outputs": [
    {
     "data": {
      "text/plain": [
       "{'query_id': '557f5d0b-56ab-4cf9-b0bc-ec4ae1aa2023',\n",
       " 'result_type': 'entry',\n",
       " 'total_count': 18,\n",
       " 'result_set': [{'identifier': '1CLL', 'score': 1.0},\n",
       "  {'identifier': '1CLM', 'score': 0.8264158267282838},\n",
       "  {'identifier': '3CLN', 'score': 0.7895704167549658},\n",
       "  {'identifier': '1OSA', 'score': 0.73525576468782},\n",
       "  {'identifier': '5E1P', 'score': 0.7281498103877214},\n",
       "  {'identifier': '5E1N', 'score': 0.7145077657697297},\n",
       "  {'identifier': '5E1K', 'score': 0.7074197905830122},\n",
       "  {'identifier': '1EXR', 'score': 0.7040225418508469},\n",
       "  {'identifier': '2V02', 'score': 0.7028028258758835},\n",
       "  {'identifier': '2V01', 'score': 0.6910993479091333},\n",
       "  {'identifier': '4CLN', 'score': 0.6565741132447246},\n",
       "  {'identifier': '1UP5', 'score': 0.5124798037022233},\n",
       "  {'identifier': '4BW8', 'score': 0.4312863158696412},\n",
       "  {'identifier': '1OOJ', 'score': 0.4233689857933641},\n",
       "  {'identifier': '4BW7', 'score': 0.20946535079797327},\n",
       "  {'identifier': '1RFJ', 'score': 0.045702729285794365},\n",
       "  {'identifier': '5A2H', 'score': 0.016188534584142465},\n",
       "  {'identifier': '6DAH', 'score': 0.0}]}"
      ]
     },
     "execution_count": 16,
     "metadata": {},
     "output_type": "execute_result"
    }
   ],
   "execution_count": 16
  },
  {
   "metadata": {
    "ExecuteTime": {
     "end_time": "2024-12-11T11:18:44.183563Z",
     "start_time": "2024-12-11T11:18:44.178833Z"
    }
   },
   "cell_type": "code",
   "source": [
    "pdb_ids = [entry[\"identifier\"] for entry in results[\"result_set\"]]\n",
    "print(pdb_ids)"
   ],
   "outputs": [
    {
     "name": "stdout",
     "output_type": "stream",
     "text": [
      "['1CLL', '1CLM', '3CLN', '1OSA', '5E1P', '5E1N', '5E1K', '1EXR', '2V02', '2V01', '4CLN', '1UP5', '4BW8', '1OOJ', '4BW7', '1RFJ', '5A2H', '6DAH']\n"
     ]
    }
   ],
   "execution_count": 17
  },
  {
   "metadata": {
    "ExecuteTime": {
     "end_time": "2024-12-11T11:31:21.451720Z",
     "start_time": "2024-12-11T11:31:20.826876Z"
    }
   },
   "cell_type": "code",
   "source": [
    "response = requests.get(\"https://data.rcsb.org/rest/v1/core/entry/1CLL\")\n",
    "result = response.json()"
   ],
   "outputs": [],
   "execution_count": 26
  },
  {
   "metadata": {
    "ExecuteTime": {
     "end_time": "2024-12-11T11:38:56.177658Z",
     "start_time": "2024-12-11T11:38:56.173934Z"
    }
   },
   "cell_type": "code",
   "source": "result[\"struct\"]",
   "outputs": [
    {
     "data": {
      "text/plain": [
       "{'title': 'CALMODULIN STRUCTURE REFINED AT 1.7 ANGSTROMS RESOLUTION'}"
      ]
     },
     "execution_count": 30,
     "metadata": {},
     "output_type": "execute_result"
    }
   ],
   "execution_count": 30
  },
  {
   "metadata": {
    "ExecuteTime": {
     "end_time": "2024-12-11T11:32:06.099294Z",
     "start_time": "2024-12-11T11:32:05.002773Z"
    }
   },
   "cell_type": "code",
   "source": [
    "pdb_id = \"1CLL\"\n",
    "url = f\"https://files.rcsb.org/download/{pdb_id}.cif\"\n",
    "response = requests.get(url)\n",
    "if response.status_code == 200:\n",
    "    with open(f\"{pdb_id}.cif\", \"wb\") as f:\n",
    "        f.write(response.content)\n",
    "    print(f\"Downloaded {pdb_id}.cif\")"
   ],
   "outputs": [
    {
     "name": "stdout",
     "output_type": "stream",
     "text": [
      "Downloaded 1CLL.cif\n"
     ]
    }
   ],
   "execution_count": 28
  },
  {
   "metadata": {
    "ExecuteTime": {
     "end_time": "2024-12-11T11:31:22.202410Z",
     "start_time": "2024-12-11T11:31:22.192664Z"
    }
   },
   "cell_type": "code",
   "source": "result.keys()",
   "outputs": [
    {
     "data": {
      "text/plain": [
       "dict_keys(['audit_author', 'cell', 'citation', 'diffrn', 'diffrn_radiation', 'entry', 'exptl', 'exptl_crystal', 'pdbx_audit_revision_category', 'pdbx_audit_revision_details', 'pdbx_audit_revision_group', 'pdbx_audit_revision_history', 'pdbx_audit_revision_item', 'pdbx_database_status', 'rcsb_accession_info', 'rcsb_entry_container_identifiers', 'rcsb_entry_info', 'rcsb_primary_citation', 'refine', 'refine_hist', 'refine_ls_restr', 'software', 'struct', 'struct_keywords', 'symmetry', 'rcsb_id'])"
      ]
     },
     "execution_count": 27,
     "metadata": {},
     "output_type": "execute_result"
    }
   ],
   "execution_count": 27
  },
  {
   "metadata": {
    "ExecuteTime": {
     "end_time": "2024-12-11T11:28:58.290068Z",
     "start_time": "2024-12-11T11:28:58.285198Z"
    }
   },
   "cell_type": "code",
   "source": "result['cell']",
   "outputs": [
    {
     "data": {
      "text/plain": [
       "{'angle_alpha': 93.62,\n",
       " 'angle_beta': 97.3,\n",
       " 'angle_gamma': 89.17,\n",
       " 'length_a': 30.17,\n",
       " 'length_b': 53.6,\n",
       " 'length_c': 25.14,\n",
       " 'zpdb': 1}"
      ]
     },
     "execution_count": 24,
     "metadata": {},
     "output_type": "execute_result"
    }
   ],
   "execution_count": 24
  },
  {
   "metadata": {},
   "cell_type": "markdown",
   "source": [
    "Problem: RCSB only has information about whether a protein is in its native confirmation in some cases, therefore we can not guarantee to build clusters of similar items. AlphaFold DB on the other hand has no tool to query similar proteins.\n",
    "\n",
    "Generally, what do we want to cluster? Just get proteins in similar structure from the database, since they commonly also have similar functions? This creates a high bias, but is probably the only way.\n",
    "\n",
    "Next: How similar should proteins be based on their similarity score?\n",
    "\n",
    "Protein suggestions:\n",
    "\n",
    "- 1A4U - Hemoglobin, a protein responsible for oxygen transport in the blood.\n",
    "- 1GZX - Lysozyme, an enzyme that breaks down bacterial cell walls.\n",
    "- 1UBQ - Ubiquitin, a small regulatory protein involved in protein degradation.\n",
    "- 3MHT - DNA polymerase I, an enzyme that synthesizes DNA molecules.\n",
    "- 4HHB - Myoglobin, a protein that stores oxygen in muscle tissues.\n",
    "- 6VXX - SARS-CoV-2 spike glycoprotein, involved in viral entry into host cells.\n",
    "- 2RH1 - Beta-2 adrenergic receptor, a G-protein coupled receptor (GPCR).\n",
    "- 5XTL - Insulin receptor, important for glucose metabolism regulation.\n",
    "- 3KZ8 - Cytochrome c oxidase, involved in the electron transport chain.\n",
    "- 2C9T - Glutamate receptor, a ligand-gated ion channel in the nervous system."
   ]
  },
  {
   "metadata": {
    "ExecuteTime": {
     "end_time": "2024-12-11T12:19:33.891854Z",
     "start_time": "2024-12-11T12:19:33.888741Z"
    }
   },
   "cell_type": "code",
   "source": "",
   "outputs": [],
   "execution_count": null
  },
  {
   "metadata": {},
   "cell_type": "code",
   "outputs": [],
   "execution_count": null,
   "source": ""
  }
 ],
 "metadata": {
  "language_info": {
   "name": "python"
  },
  "kernelspec": {
   "name": "python3",
   "language": "python",
   "display_name": "Python 3 (ipykernel)"
  }
 },
 "nbformat": 4,
 "nbformat_minor": 2
}
