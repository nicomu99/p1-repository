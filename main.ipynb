{
 "cells": [
  {
   "cell_type": "markdown",
   "metadata": {},
   "source": [
    "# Sample From Mesh Files\n",
    "\n",
    "In this notebook, point clouds are created from mesh files using poisson disk sampling."
   ]
  },
  {
   "cell_type": "code",
   "metadata": {
    "ExecuteTime": {
     "end_time": "2024-12-04T10:19:09.356560Z",
     "start_time": "2024-12-04T10:19:08.456759Z"
    }
   },
   "source": [
    "%load_ext autoreload\n",
    "%autoreload 2\n",
    "\n",
    "import os\n",
    "\n",
    "import numpy as np\n",
    "import matplotlib.pyplot as plt\n",
    "import open3d as o3d\n",
    "from tqdm import tqdm"
   ],
   "outputs": [
    {
     "name": "stdout",
     "output_type": "stream",
     "text": [
      "The autoreload extension is already loaded. To reload it, use:\n",
      "  %reload_ext autoreload\n"
     ]
    }
   ],
   "execution_count": 6
  },
  {
   "metadata": {},
   "cell_type": "code",
   "source": [
    "def load_mesh_and_sample_points(file_name, num_points=5000):\n",
    "    # Default number of points as indicated in the thesis\n",
    "    mesh = o3d.io.read_triangle_mesh(file_name)\n",
    "    pc = mesh.sample_points_poisson_disk(num_points)\n",
    "    return np.asarray(pc.points)"
   ],
   "outputs": [],
   "execution_count": null
  },
  {
   "metadata": {
    "jupyter": {
     "is_executing": true
    }
   },
   "cell_type": "code",
   "source": [
    "# Load data and convert to point clouds\n",
    "path = 'mesh_files_new'\n",
    "count = 0\n",
    "for idx, file in tqdm(enumerate(os.listdir(path))):\n",
    "    file_path = os.path.join(path, file)\n",
    "    if os.path.isfile(file_path):\n",
    "        label = \"\"\n",
    "        for s in file[:-3]:\n",
    "            if s.isalpha():\n",
    "                label += s\n",
    "        point_cloud = load_mesh_and_sample_points(file_path)\n",
    "        np.savez('point_clouds/' + label + str(count) + '.npz', objects=point_cloud, classes=label)\n",
    "        count += 1"
   ],
   "outputs": [],
   "execution_count": null
  },
  {
   "metadata": {},
   "cell_type": "code",
   "source": [
    "# This step was only needed once\n",
    "# Can be ignored\n",
    "path = 'point_clouds'\n",
    "objects = []\n",
    "labels = []\n",
    "for idx, file in tqdm(enumerate(os.listdir(path))):\n",
    "    file_path = os.path.join(path, file)\n",
    "    if os.path.isfile(file_path):\n",
    "        load_table = np.load(file_path, allow_pickle=True)\n",
    "        if len(load_table['objects'].shape) > 2:\n",
    "            for i in range(load_table['objects'].shape[0]):\n",
    "                objects.append(load_table['objects'][i])\n",
    "                labels.append(load_table['classes'][i])\n",
    "        else:\n",
    "            objects.append(load_table['objects'])\n",
    "            labels.append(load_table['classes'])"
   ],
   "outputs": [],
   "execution_count": null
  },
  {
   "metadata": {},
   "cell_type": "code",
   "source": "np.savez('point_clouds/all_point_clouds', objects=objects, labels=labels)",
   "outputs": [],
   "execution_count": null
  },
  {
   "metadata": {
    "ExecuteTime": {
     "end_time": "2024-12-04T10:19:13.056380Z",
     "start_time": "2024-12-04T10:19:12.994880Z"
    }
   },
   "cell_type": "code",
   "source": [
    "load_clouds = np.load('point_clouds/all_point_clouds.npz', allow_pickle=True)\n",
    "point_cloud_data = [load_clouds['objects'], load_clouds['labels']]"
   ],
   "outputs": [],
   "execution_count": 7
  },
  {
   "metadata": {},
   "cell_type": "code",
   "source": [
    "def create_scatterplot_3d(data, descriptor):\n",
    "    figure = plt.figure(figsize=(5, 5))\n",
    "    ax = figure.add_subplot(111, projection='3d')\n",
    "\n",
    "    # Map classes to colors\n",
    "    unique_classes = data['class'].unique()\n",
    "    colors = plt.cm.tab10(range(len(unique_classes)))\n",
    "    class_color_map = dict(zip(unique_classes, colors))\n",
    "\n",
    "    # Plot points by class\n",
    "    for class_label in unique_classes:\n",
    "        class_data = data[data['class'] == class_label]\n",
    "        ax.scatter(\n",
    "            class_data['evrap_x'], class_data['evrap_y'], class_data['evrap_z'],\n",
    "            color=class_color_map[class_label], label=class_label, s=50\n",
    "        )\n",
    "\n",
    "    ax.legend()\n",
    "    ax.view_init(80, 10)\n",
    "    ax.set_title(descriptor)\n",
    "\n",
    "\n",
    "def create_scatterplot_2d(data, descriptor):\n",
    "    figure = plt.figure(figsize=(5, 5))\n",
    "    ax = figure.add_subplot(111)\n",
    "\n",
    "    # Map classes to colors\n",
    "    unique_classes = data['class'].unique()\n",
    "    colors = plt.cm.tab10(range(len(unique_classes)))\n",
    "    class_color_map = dict(zip(unique_classes, colors))\n",
    "\n",
    "    # Plot points by class\n",
    "    for class_label in unique_classes:\n",
    "        class_data = data[data['class'] == class_label]\n",
    "        ax.scatter(\n",
    "            class_data['samp_x'], class_data['samp_y'],\n",
    "            color=class_color_map[class_label], label=class_label, s=50\n",
    "        )\n",
    "\n",
    "    ax.legend()\n",
    "    ax.set_title(descriptor)\n",
    "\n",
    "\n",
    "def create_scatterplot_1d(data, descriptor):\n",
    "    figure = plt.figure(figsize=(5, 5))\n",
    "    ax = figure.add_subplot(111)\n",
    "\n",
    "    # Map classes to colors\n",
    "    unique_classes = data['class'].unique()\n",
    "    colors = plt.cm.tab10(range(len(unique_classes)))\n",
    "    class_color_map = dict(zip(unique_classes, colors))\n",
    "\n",
    "    # Plot points by class\n",
    "    for class_label in unique_classes:\n",
    "        class_data = data[data['class'] == class_label]\n",
    "        x = np.arange(len(class_data[descriptor]))\n",
    "        ax.scatter(\n",
    "            x, class_data[descriptor], color=class_color_map[class_label], label=class_label,\n",
    "        )\n",
    "\n",
    "    ax.legend()\n",
    "    ax.set_title(descriptor)"
   ],
   "outputs": [],
   "execution_count": null
  },
  {
   "metadata": {},
   "cell_type": "markdown",
   "source": [
    "## Runtime Overview\n",
    "\n",
    "The descriptors used have the following complexities. \n",
    "\n",
    "- EVARP: $O(nm)$\n",
    "- SAMP: $O(nm)$\n",
    "- SCOMP: $O(n \\cdot (m$ log $m)$\n",
    "- SIRM: $O(nm)$\n",
    "- Shell Model: $O(nm)$\n",
    "- Sector Model: $O(nm)$\n",
    "- Combined Model: $O(n(m + m))$\n",
    "- FPFH: $O(nmk)$\n",
    "\n",
    "Notation:\n",
    "- n: Number of point clouds\n",
    "- m: Number of points per point cloud\n",
    "- k: A hyperparameter of FPFH (relatively small), similar to k in k-NN"
   ]
  },
  {
   "metadata": {},
   "cell_type": "code",
   "outputs": [],
   "execution_count": null,
   "source": ""
  }
 ],
 "metadata": {
  "language_info": {
   "name": "python"
  },
  "kernelspec": {
   "name": "python3",
   "language": "python",
   "display_name": "Python 3 (ipykernel)"
  }
 },
 "nbformat": 4,
 "nbformat_minor": 2
}
