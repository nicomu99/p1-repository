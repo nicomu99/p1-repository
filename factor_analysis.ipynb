{
 "cells": [
  {
   "metadata": {},
   "cell_type": "markdown",
   "source": [
    "# Factor Analysis Analysis\n",
    "\n",
    "In this notebook, the result of sklearn's FactorAnalysis is analyzed."
   ],
   "id": "56b1ad17bd474c05"
  },
  {
   "metadata": {},
   "cell_type": "code",
   "source": [
    "import numpy as np\n",
    "from sklearn.decomposition import FactorAnalysis\n",
    "import matplotlib.pyplot as plt"
   ],
   "id": "d34dd61962226cd0",
   "outputs": [],
   "execution_count": null
  },
  {
   "cell_type": "code",
   "id": "initial_id",
   "metadata": {
    "collapsed": true
   },
   "source": [
    "load_clouds = np.load('point_clouds/mc_gill_whole.npz', allow_pickle=True)\n",
    "point_clouds, labels = load_clouds['objects'], load_clouds['labels']"
   ],
   "outputs": [],
   "execution_count": null
  },
  {
   "metadata": {},
   "cell_type": "code",
   "source": [
    "object_index = 180\n",
    "\n",
    "fig = plt.figure()\n",
    "ax = fig.add_subplot(projection='3d')\n",
    "\n",
    "ax.scatter(point_clouds[object_index][:, 0], point_clouds[object_index][:, 1], point_clouds[object_index][:, 2])"
   ],
   "id": "43022a5661833a41",
   "outputs": [],
   "execution_count": null
  },
  {
   "metadata": {},
   "cell_type": "code",
   "source": [
    "def varimax_projection(point_cloud):\n",
    "    fa = FactorAnalysis(n_components=2, random_state=0, rotation='varimax')\n",
    "    return fa.fit_transform(point_cloud)\n",
    "\n",
    "projected_2d = varimax_projection(point_clouds[object_index]) "
   ],
   "id": "194acf4bbac3e2e0",
   "outputs": [],
   "execution_count": null
  },
  {
   "metadata": {},
   "cell_type": "code",
   "source": "grid_spacex = np.linspace(np.min(projected_2d[:, 0]), np.max(projected_2d[:, 0]), 20)",
   "id": "50728561a73f4d2e",
   "outputs": [],
   "execution_count": null
  },
  {
   "metadata": {},
   "cell_type": "code",
   "source": "grid_spacex",
   "id": "3c3917f5c4e6f9d1",
   "outputs": [],
   "execution_count": null
  },
  {
   "metadata": {},
   "cell_type": "code",
   "source": [
    "fig = plt.figure()\n",
    "ax = fig.add_subplot()\n",
    "\n",
    "ax.set_xlabel('x')\n",
    "ax.set_ylabel('y')\n",
    "ax.scatter(projected_2d[:, 0], projected_2d[:, 1])"
   ],
   "id": "80217f8b329a6f75",
   "outputs": [],
   "execution_count": null
  },
  {
   "metadata": {},
   "cell_type": "code",
   "source": [
    "def varimax_projection_3d(point_cloud):\n",
    "    fa = FactorAnalysis(n_components=3, random_state=0, rotation='varimax')\n",
    "    return fa.fit_transform(point_cloud)\n",
    "\n",
    "projected_3d = varimax_projection_3d(point_clouds[object_index]) "
   ],
   "id": "6407b4bec19624c5",
   "outputs": [],
   "execution_count": null
  },
  {
   "metadata": {},
   "cell_type": "code",
   "source": [
    "def plot_projection(point_cloud):\n",
    "    fig = plt.figure(figsize=(12, 6))\n",
    "    \n",
    "    for i, (x, y) in enumerate([(0, 1), (0, 2), (1, 2)]):\n",
    "        plot_idx = i + 1\n",
    "        ax = fig.add_subplot(1, 3, plot_idx)\n",
    "        ax.scatter(point_cloud[:, x], point_cloud[:, y])\n",
    "\n",
    "        x_label = 'x'\n",
    "        if x == 1:\n",
    "            x_label = 'y'\n",
    "            \n",
    "        y_label = 'z'\n",
    "        if y == 1:\n",
    "            y_label = 'y'\n",
    "        ax.set_xlabel(x_label)\n",
    "        ax.set_ylabel(y_label)\n",
    "    \n",
    "    fig.tight_layout()"
   ],
   "id": "b22d34a452277e14",
   "outputs": [],
   "execution_count": null
  },
  {
   "metadata": {},
   "cell_type": "code",
   "source": "plot_projection(projected_3d)",
   "id": "da2935fc62813746",
   "outputs": [],
   "execution_count": null
  }
 ],
 "metadata": {
  "kernelspec": {
   "display_name": "Python 3",
   "language": "python",
   "name": "python3"
  },
  "language_info": {
   "codemirror_mode": {
    "name": "ipython",
    "version": 2
   },
   "file_extension": ".py",
   "mimetype": "text/x-python",
   "name": "python",
   "nbconvert_exporter": "python",
   "pygments_lexer": "ipython2",
   "version": "2.7.6"
  }
 },
 "nbformat": 4,
 "nbformat_minor": 5
}
