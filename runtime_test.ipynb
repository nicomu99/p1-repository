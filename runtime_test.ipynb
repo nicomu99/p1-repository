{
 "cells": [
  {
   "metadata": {},
   "cell_type": "markdown",
   "source": [
    "# Runtime Test\n",
    "\n",
    "This notebook contains an empirical evaluation of the runtimes of all testing routines as an addition to the theoretical analysis in the thesis."
   ],
   "id": "162b95af5a986c7f"
  },
  {
   "metadata": {},
   "cell_type": "code",
   "source": [
    "%load_ext autoreload\n",
    "%autoreload 2\n",
    "\n",
    "import os\n",
    "import time\n",
    "\n",
    "import numpy as np\n",
    "import pandas as pd\n",
    "import matplotlib.pyplot as plt\n",
    "from tqdm import tqdm\n",
    "\n",
    "from descriptor_utils import DescriptorWrapper\n",
    "from experiment_utils import plot_evaluation\n"
   ],
   "id": "c17659c20e281a0e",
   "outputs": [],
   "execution_count": null
  },
  {
   "metadata": {},
   "cell_type": "code",
   "source": [
    "dataset = \"mc_gill_whole\"\n",
    "file_name = f'{dataset}_runtime_data'"
   ],
   "id": "657630cd856af932",
   "outputs": [],
   "execution_count": null
  },
  {
   "cell_type": "code",
   "id": "initial_id",
   "metadata": {
    "collapsed": true
   },
   "source": [
    "descriptors = [\n",
    "    ['evrap', 'samp', 'sirm', 'scomp'], ['pfh'], ['sector_model'], ['combined_model'], ['shell_model'],\n",
    "    ['evrap'], ['samp'], ['sirm'], ['scomp'], ['samp_3d'], ['sirm_3d'], ['scomp_3d']\n",
    "]\n",
    "data_size = range(200, 1501, 100)\n",
    "\n",
    "def load_or_compute_runtime(file):\n",
    "    if os.path.isfile(f'test_output/{file}_runtime_data.csv'):\n",
    "        df = pd.read_csv(f'test_output/{file}_runtime_data.csv', index_col=0)\n",
    "        return df.to_dict(orient='list')\n",
    "    else:\n",
    "        data = np.load(f\"point_clouds/{file}.npz\", allow_pickle=True)\n",
    "        point_clouds = data['objects']\n",
    "    \n",
    "        # duplicate 10 times\n",
    "        for i in range(3):\n",
    "            point_clouds = np.concatenate((point_clouds, point_clouds))\n",
    "    \n",
    "        experiment_data = {**{'_'.join(descriptor): [] for descriptor in descriptors}}\n",
    "        descriptor_wrapper = DescriptorWrapper()\n",
    "    \n",
    "        for test_size in tqdm(data_size, desc=\"\"):\n",
    "            test_data = point_clouds[:test_size]\n",
    "            for descriptor in descriptors:\n",
    "                if len(descriptor) < 2:\n",
    "                    descriptor = descriptor[0]\n",
    "                    start_time = time.perf_counter()\n",
    "                    descriptor_wrapper.compute_model_on_dataset(test_data, descriptor)\n",
    "                    experiment_data[descriptor].append(time.perf_counter() - start_time)\n",
    "    \n",
    "            experiment_data['evrap_samp_sirm_scomp'].append(sum(experiment_data[key][-1] for key in ['evrap', 'sirm', 'scomp', 'samp']))\n",
    "    \n",
    "        df = pd.DataFrame(experiment_data)\n",
    "        df.to_csv(f'test_output/{file}_runtime_data.csv', index=False)\n",
    "        \n",
    "        return df.to_dict(orient='list')"
   ],
   "outputs": [],
   "execution_count": null
  },
  {
   "metadata": {},
   "cell_type": "code",
   "source": "runtime_data = load_or_compute_runtime(dataset)",
   "id": "2b324dab0c765af5",
   "outputs": [],
   "execution_count": null
  },
  {
   "metadata": {},
   "cell_type": "code",
   "source": [
    "fig, axes = plt.subplots(1, 1, figsize=(10, 5), dpi=300)  # Example with a 2x2 grid of subplots\n",
    "\n",
    "plot_evaluation(axes, descriptors, runtime_data, data_size,\n",
    "                x_label='n (Dataset Size)', y_label='s (Runtime)',\n",
    "                title='Runtime Performance of 3D Shape Descriptors')\n",
    "\n",
    "# Set figure background and adjust layout\n",
    "fig.patch.set_facecolor('#333333')  # Dark grey background for the figure\n",
    "fig.tight_layout()  # Ensure subplots fit within the figure\n",
    "\n",
    "plt.savefig(f\"figures/{dataset}/runtime/runtime.png\", dpi=300)\n",
    "plt.show()"
   ],
   "id": "5eeec8dd2061d78e",
   "outputs": [],
   "execution_count": null
  },
  {
   "metadata": {},
   "cell_type": "code",
   "source": [
    "fig, axes = plt.subplots(1, 1, figsize=(10, 5), dpi=300)  # Example with a 2x2 grid of subplots\n",
    "\n",
    "plot_evaluation(axes, descriptors, runtime_data, data_size,\n",
    "                x_label='n (Dataset Size)', y_label='s (Runtime)',\n",
    "                title='Runtime Performance of 3D Shape Descriptors', log_y=True)\n",
    "\n",
    "# Set figure background and adjust layout\n",
    "fig.patch.set_facecolor('#333333')  # Dark grey background for the figure\n",
    "fig.tight_layout()  # Ensure subplots fit within the figure\n",
    "\n",
    "plt.savefig(f\"figures/{dataset}/runtime/runtime_logy.png\", dpi=300)\n",
    "plt.show()"
   ],
   "id": "36e4d4f7d0bb1196",
   "outputs": [],
   "execution_count": null
  },
  {
   "metadata": {},
   "cell_type": "code",
   "source": "",
   "id": "6fb4fbb5e7e0f759",
   "outputs": [],
   "execution_count": null
  }
 ],
 "metadata": {
  "kernelspec": {
   "display_name": "Python 3",
   "language": "python",
   "name": "python3"
  },
  "language_info": {
   "codemirror_mode": {
    "name": "ipython",
    "version": 2
   },
   "file_extension": ".py",
   "mimetype": "text/x-python",
   "name": "python",
   "nbconvert_exporter": "python",
   "pygments_lexer": "ipython2",
   "version": "2.7.6"
  }
 },
 "nbformat": 4,
 "nbformat_minor": 5
}
